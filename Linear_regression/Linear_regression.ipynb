{
 "cells": [
  {
   "cell_type": "code",
   "execution_count": 371,
   "id": "bb72b4ca",
   "metadata": {},
   "outputs": [],
   "source": [
    "import numpy as np"
   ]
  },
  {
   "cell_type": "code",
   "execution_count": 372,
   "id": "47bd32b8",
   "metadata": {},
   "outputs": [],
   "source": [
    "def split_data(X_tr, ytr):\n",
    "    train_split = int(0.8*X_tr.shape[0])\n",
    "    X, y = X_tr[:train_split], ytr[:train_split]\n",
    "    X_v, y_v = X_tr[train_split:],ytr[train_split:]\n",
    "    return X,y,X_v,y_v"
   ]
  },
  {
   "cell_type": "code",
   "execution_count": 373,
   "id": "a3db5f68",
   "metadata": {},
   "outputs": [],
   "source": [
    "def generate_batches(batch_size, X, y):\n",
    "    y = y.reshape((y.shape[0],1))\n",
    "    batches = []\n",
    "    mini_batches = X.shape[0]//batch_size\n",
    "    data = np.hstack((X,y))\n",
    "    for i in range(mini_batches + 1):\n",
    "        mini_batch = data[i*batch_size:(i+1)*batch_size,:]\n",
    "        X_i = mini_batch[:,:-1]\n",
    "        y_i = mini_batch[:,-1].reshape((-1,1))\n",
    "        if y_i.shape[0] != 0:\n",
    "            batches.append((X_i,y_i))\n",
    "    return batches\n",
    "    "
   ]
  },
  {
   "cell_type": "code",
   "execution_count": 374,
   "id": "722dafa8",
   "metadata": {},
   "outputs": [],
   "source": [
    "def compute_loss(y_pred, y):\n",
    "    meanSquareDiff = np.sum(np.square(y_pred - y.reshape((-1,1))))\n",
    "    L = meanSquareDiff/(2*y.shape[0])\n",
    "    return L"
   ]
  },
  {
   "cell_type": "code",
   "execution_count": 375,
   "id": "7be02b71",
   "metadata": {},
   "outputs": [],
   "source": [
    "def predict(X, w, b):\n",
    "        return X.dot(w) + b"
   ]
  },
  {
   "cell_type": "code",
   "execution_count": 376,
   "id": "0b974d64",
   "metadata": {},
   "outputs": [],
   "source": [
    "def get_final_loss(X,y,w,b):\n",
    "    y_pred = predict(X,w,b)\n",
    "    return compute_loss(y_pred, y)"
   ]
  },
  {
   "cell_type": "code",
   "execution_count": 377,
   "id": "f5e417a9",
   "metadata": {},
   "outputs": [],
   "source": [
    "def dL_dw(X, y, y_pred, w, alpha):\n",
    "    n = X.shape[0]\n",
    "    return -1*(((X.T).dot(y - y_pred)) + (alpha*w))/n"
   ]
  },
  {
   "cell_type": "code",
   "execution_count": 378,
   "id": "7c1e11de",
   "metadata": {},
   "outputs": [],
   "source": [
    "def dL_db(y, y_pred):\n",
    "    n = y.shape[0]\n",
    "    return -1*(np.sum(y-y_pred))/n"
   ]
  },
  {
   "cell_type": "code",
   "execution_count": 379,
   "id": "211e90f6",
   "metadata": {},
   "outputs": [],
   "source": [
    "def update_weights(X, y, w, b, e):\n",
    "    y_pred = predict(X,w,b)\n",
    "    w = w.reshape((-1,1))\n",
    "    dw = dL_dw(X, y, y_pred, w, alpha)\n",
    "    db = dL_db(y, y_pred)\n",
    "    w = w - e*dw\n",
    "    b = b - e*db\n",
    "    return w,b"
   ]
  },
  {
   "cell_type": "code",
   "execution_count": 380,
   "id": "e57cbb6c",
   "metadata": {},
   "outputs": [],
   "source": [
    "X_tr = np.reshape(np.load(\"age_regression_Xtr.npy\"), (-1, 48*48))\n",
    "ytr = np.load(\"age_regression_ytr.npy\")\n",
    "X_te = np.reshape(np.load(\"age_regression_Xte.npy\"), (-1, 48*48))\n",
    "yte = np.load(\"age_regression_yte.npy\")"
   ]
  },
  {
   "cell_type": "code",
   "execution_count": 381,
   "id": "c62a0b9a",
   "metadata": {},
   "outputs": [],
   "source": [
    "n,m = X_tr.shape"
   ]
  },
  {
   "cell_type": "code",
   "execution_count": 382,
   "id": "3afc5acd",
   "metadata": {},
   "outputs": [],
   "source": [
    "hyperparams = [[1000,100,0.01,0.001],[2000,64,0.05,0.003],[3000,30,0.1,0.005],[5000,10,0,0.002]]"
   ]
  },
  {
   "cell_type": "code",
   "execution_count": 383,
   "id": "0f2071e5",
   "metadata": {},
   "outputs": [],
   "source": [
    "X_train,y_train,X_valid,y_valid = split_data(X_tr,ytr)"
   ]
  },
  {
   "cell_type": "code",
   "execution_count": 384,
   "id": "329ebe01",
   "metadata": {},
   "outputs": [],
   "source": [
    "train_loss = []\n",
    "validation_loss = []\n",
    "test_loss = []\n",
    "weights =[]"
   ]
  },
  {
   "cell_type": "code",
   "execution_count": 386,
   "id": "b4f5c69b",
   "metadata": {},
   "outputs": [
    {
     "name": "stdout",
     "output_type": "stream",
     "text": [
      "0 [1000, 100, 0.01, 0.001] 96.23941036530834\n",
      "100 [1000, 100, 0.01, 0.001] 70.68332233936609\n",
      "200 [1000, 100, 0.01, 0.001] 65.00008661308684\n",
      "300 [1000, 100, 0.01, 0.001] 61.64376183654303\n",
      "400 [1000, 100, 0.01, 0.001] 59.25693858768546\n",
      "500 [1000, 100, 0.01, 0.001] 57.46095757949947\n",
      "600 [1000, 100, 0.01, 0.001] 56.07762682404146\n",
      "700 [1000, 100, 0.01, 0.001] 54.99661959342083\n",
      "800 [1000, 100, 0.01, 0.001] 54.14150148071346\n",
      "900 [1000, 100, 0.01, 0.001] 53.456993774164424\n",
      "0 [2000, 64, 0.05, 0.003] 247.6275497754986\n",
      "100 [2000, 64, 0.05, 0.003] 77.12876547652189\n",
      "200 [2000, 64, 0.05, 0.003] 65.83134735869501\n",
      "300 [2000, 64, 0.05, 0.003] 60.34944599284981\n",
      "400 [2000, 64, 0.05, 0.003] 56.404398869003074\n",
      "500 [2000, 64, 0.05, 0.003] 53.34070166519528\n",
      "600 [2000, 64, 0.05, 0.003] 50.95400190305258\n",
      "700 [2000, 64, 0.05, 0.003] 49.02798845406698\n",
      "800 [2000, 64, 0.05, 0.003] 47.39433780280619\n",
      "900 [2000, 64, 0.05, 0.003] 45.946425526983845\n",
      "1000 [2000, 64, 0.05, 0.003] 44.62327128807233\n",
      "1100 [2000, 64, 0.05, 0.003] 43.39157222694419\n",
      "1200 [2000, 64, 0.05, 0.003] 42.23326549628234\n",
      "1300 [2000, 64, 0.05, 0.003] 41.13820227017402\n",
      "1400 [2000, 64, 0.05, 0.003] 40.10015215563118\n",
      "1500 [2000, 64, 0.05, 0.003] 39.11473994043121\n",
      "1600 [2000, 64, 0.05, 0.003] 38.178443871117324\n",
      "1700 [2000, 64, 0.05, 0.003] 37.28814986812641\n",
      "1800 [2000, 64, 0.05, 0.003] 36.44097822346815\n",
      "1900 [2000, 64, 0.05, 0.003] 35.634230681353216\n",
      "0 [3000, 30, 0.1, 0.005] 6.750528234163573e+99\n"
     ]
    },
    {
     "name": "stderr",
     "output_type": "stream",
     "text": [
      "/tmp/ipykernel_4714/2746387332.py:2: RuntimeWarning: overflow encountered in square\n",
      "  meanSquareDiff = np.sum(np.square(y_pred - y.reshape((-1,1))))\n"
     ]
    },
    {
     "name": "stdout",
     "output_type": "stream",
     "text": [
      "100 [3000, 30, 0.1, 0.005] nan\n",
      "200 [3000, 30, 0.1, 0.005] nan\n",
      "300 [3000, 30, 0.1, 0.005] nan\n",
      "400 [3000, 30, 0.1, 0.005] nan\n",
      "500 [3000, 30, 0.1, 0.005] nan\n",
      "600 [3000, 30, 0.1, 0.005] nan\n",
      "700 [3000, 30, 0.1, 0.005] nan\n",
      "800 [3000, 30, 0.1, 0.005] nan\n",
      "900 [3000, 30, 0.1, 0.005] nan\n",
      "1000 [3000, 30, 0.1, 0.005] nan\n",
      "1100 [3000, 30, 0.1, 0.005] nan\n",
      "1200 [3000, 30, 0.1, 0.005] nan\n",
      "1300 [3000, 30, 0.1, 0.005] nan\n",
      "1400 [3000, 30, 0.1, 0.005] nan\n",
      "1500 [3000, 30, 0.1, 0.005] nan\n",
      "1600 [3000, 30, 0.1, 0.005] nan\n",
      "1700 [3000, 30, 0.1, 0.005] nan\n",
      "1800 [3000, 30, 0.1, 0.005] nan\n",
      "1900 [3000, 30, 0.1, 0.005] nan\n",
      "2000 [3000, 30, 0.1, 0.005] nan\n",
      "2100 [3000, 30, 0.1, 0.005] nan\n",
      "2200 [3000, 30, 0.1, 0.005] nan\n",
      "2300 [3000, 30, 0.1, 0.005] nan\n",
      "2400 [3000, 30, 0.1, 0.005] nan\n",
      "2500 [3000, 30, 0.1, 0.005] nan\n",
      "2600 [3000, 30, 0.1, 0.005] nan\n",
      "2700 [3000, 30, 0.1, 0.005] nan\n",
      "2800 [3000, 30, 0.1, 0.005] nan\n",
      "2900 [3000, 30, 0.1, 0.005] nan\n",
      "0 [5000, 10, 0, 0.002] 91.87427316033788\n",
      "100 [5000, 10, 0, 0.002] 49.44908835124279\n",
      "200 [5000, 10, 0, 0.002] 47.37600798091802\n",
      "300 [5000, 10, 0, 0.002] 44.40968760892816\n",
      "400 [5000, 10, 0, 0.002] 41.39061236132054\n",
      "500 [5000, 10, 0, 0.002] 38.68732884023797\n",
      "600 [5000, 10, 0, 0.002] 36.39082344609175\n",
      "700 [5000, 10, 0, 0.002] 34.48374560166214\n",
      "800 [5000, 10, 0, 0.002] 32.913308739486034\n",
      "900 [5000, 10, 0, 0.002] 31.62083170952951\n",
      "1000 [5000, 10, 0, 0.002] 30.552682052511766\n",
      "1100 [5000, 10, 0, 0.002] 29.663453166914003\n",
      "1200 [5000, 10, 0, 0.002] 28.916075657980137\n",
      "1300 [5000, 10, 0, 0.002] 28.280858441750176\n",
      "1400 [5000, 10, 0, 0.002] 27.734275470827026\n",
      "1500 [5000, 10, 0, 0.002] 27.257808878944765\n",
      "1600 [5000, 10, 0, 0.002] 26.83694862241631\n",
      "1700 [5000, 10, 0, 0.002] 26.460364504240555\n",
      "1800 [5000, 10, 0, 0.002] 26.119235708699563\n",
      "1900 [5000, 10, 0, 0.002] 25.806714176409326\n",
      "2000 [5000, 10, 0, 0.002] 25.517497919160544\n",
      "2100 [5000, 10, 0, 0.002] 25.247493108351595\n",
      "2200 [5000, 10, 0, 0.002] 24.993547199715703\n",
      "2300 [5000, 10, 0, 0.002] 24.753238619381516\n",
      "2400 [5000, 10, 0, 0.002] 24.524711356578745\n",
      "2500 [5000, 10, 0, 0.002] 24.30654514437218\n",
      "2600 [5000, 10, 0, 0.002] 24.097653804899267\n",
      "2700 [5000, 10, 0, 0.002] 23.89720585687018\n",
      "2800 [5000, 10, 0, 0.002] 23.70456269782933\n",
      "2900 [5000, 10, 0, 0.002] 23.519230641259814\n",
      "3000 [5000, 10, 0, 0.002] 23.340823858314703\n",
      "3100 [5000, 10, 0, 0.002] 23.169035886018982\n",
      "3200 [5000, 10, 0, 0.002] 23.003617850293576\n",
      "3300 [5000, 10, 0, 0.002] 22.844361938817006\n",
      "3400 [5000, 10, 0, 0.002] 22.691088965950286\n",
      "3500 [5000, 10, 0, 0.002] 22.54363911594884\n",
      "3600 [5000, 10, 0, 0.002] 22.401865144367715\n",
      "3700 [5000, 10, 0, 0.002] 22.265627471221595\n",
      "3800 [5000, 10, 0, 0.002] 22.134790721262533\n",
      "3900 [5000, 10, 0, 0.002] 22.00922136319377\n",
      "4000 [5000, 10, 0, 0.002] 21.88878617593739\n",
      "4100 [5000, 10, 0, 0.002] 21.773351330375625\n",
      "4200 [5000, 10, 0, 0.002] 21.662781922545058\n",
      "4300 [5000, 10, 0, 0.002] 21.556941831727254\n",
      "4400 [5000, 10, 0, 0.002] 21.45569380635306\n",
      "4500 [5000, 10, 0, 0.002] 21.35889970372326\n",
      "4600 [5000, 10, 0, 0.002] 21.266420827657818\n",
      "4700 [5000, 10, 0, 0.002] 21.17811832226235\n",
      "4800 [5000, 10, 0, 0.002] 21.093853591001\n",
      "4900 [5000, 10, 0, 0.002] 21.013488718728656\n"
     ]
    }
   ],
   "source": [
    "for params in hyperparams:\n",
    "    epochs = params[0]\n",
    "    batch_size = params[1]\n",
    "    alpha = params[2]\n",
    "    e = params[3]\n",
    "    w = np.zeros((m,1))\n",
    "    b = 0\n",
    "    loss = []\n",
    "    for i in range(epochs):\n",
    "        batches = generate_batches(batch_size,X_train,y_train)\n",
    "        for batch in batches:\n",
    "            X_b, y_b = batch\n",
    "            y_pred = predict(X_b,w,b)\n",
    "            dw = dL_dw(X_b, y_b, y_pred, w, alpha)\n",
    "            db = dL_db(y_b, y_pred)\n",
    "            w,b = update_weights(X_b,y_b,w,b,e)\n",
    "            loss.append(compute_loss(y_pred,y_b))\n",
    "        if i%100 == 0:\n",
    "            print(i,params,loss[-1])\n",
    "        train_loss.append(loss)\n",
    "    weights.append((w,b))\n",
    "    validation_loss.append(get_final_loss(X_valid, y_valid, w, b))\n",
    "    test_loss.append(get_final_loss(X_te,yte,w,b))"
   ]
  },
  {
   "cell_type": "code",
   "execution_count": 387,
   "id": "e806fa0b",
   "metadata": {},
   "outputs": [
    {
     "data": {
      "text/plain": [
       "[82.40408920637144,\n",
       " 82.40408920637144,\n",
       " 96.08023960503395,\n",
       " nan,\n",
       " 145.17170621853117]"
      ]
     },
     "execution_count": 387,
     "metadata": {},
     "output_type": "execute_result"
    }
   ],
   "source": [
    "validation_loss"
   ]
  },
  {
   "cell_type": "code",
   "execution_count": 388,
   "id": "7e0f0367",
   "metadata": {},
   "outputs": [
    {
     "data": {
      "text/plain": [
       "[86.62227004538484, 101.19339626349785, nan, 161.94303406487404]"
      ]
     },
     "execution_count": 388,
     "metadata": {},
     "output_type": "execute_result"
    }
   ],
   "source": [
    "test_loss"
   ]
  }
 ],
 "metadata": {
  "kernelspec": {
   "display_name": "Python 3 (ipykernel)",
   "language": "python",
   "name": "python3"
  },
  "language_info": {
   "codemirror_mode": {
    "name": "ipython",
    "version": 3
   },
   "file_extension": ".py",
   "mimetype": "text/x-python",
   "name": "python",
   "nbconvert_exporter": "python",
   "pygments_lexer": "ipython3",
   "version": "3.9.7"
  }
 },
 "nbformat": 4,
 "nbformat_minor": 5
}
